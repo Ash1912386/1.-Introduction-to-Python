{
 "cells": [
  {
   "cell_type": "code",
   "execution_count": 1,
   "id": "4756ca23-cd9f-41f1-b8ed-8062506e056b",
   "metadata": {},
   "outputs": [
    {
     "name": "stdout",
     "output_type": "stream",
     "text": [
      "Asher\n"
     ]
    }
   ],
   "source": [
    "name = \"Asher\"\n",
    "print(name)"
   ]
  },
  {
   "cell_type": "code",
   "execution_count": 2,
   "id": "db66921f-cd5e-4bb4-9409-ec4c29cfd032",
   "metadata": {},
   "outputs": [
    {
     "name": "stdout",
     "output_type": "stream",
     "text": [
      "200\n"
     ]
    }
   ],
   "source": [
    "a = 10 \n",
    "b = 20\n",
    "c = a * b \n",
    "print(c)"
   ]
  },
  {
   "cell_type": "code",
   "execution_count": 3,
   "id": "ae88e076-3cd6-47d4-8aa7-182baa2fbabd",
   "metadata": {},
   "outputs": [
    {
     "name": "stdout",
     "output_type": "stream",
     "text": [
      "11.25 18.0 20.0 10.75 9.5\n"
     ]
    }
   ],
   "source": [
    "hall = 11.25\n",
    "kit = 18.0\n",
    "liv = 20.0\n",
    "bed = 10.75\n",
    "bath = 9.50\n",
    "\n",
    "print(hall,kit,liv,bed,bath)"
   ]
  },
  {
   "cell_type": "code",
   "execution_count": 4,
   "id": "0b1cfebe-46ce-40bf-b25a-04a9dbad36b7",
   "metadata": {},
   "outputs": [
    {
     "name": "stdout",
     "output_type": "stream",
     "text": [
      "['hallway', 11.25, 'kitchen', 18.0, 'living room', 20.0, 'bedroom', 10.75, 'bathroom', 9.5]\n"
     ]
    }
   ],
   "source": [
    "hall = 11.25\n",
    "kit = 18.0\n",
    "liv = 20.0\n",
    "bed = 10.75\n",
    "bath = 9.50\n",
    "\n",
    "areas = [\"hallway\",hall,\"kitchen\",kit,\"living room\", liv,\"bedroom\",bed, \"bathroom\", bath]\n",
    "\n",
    "print(areas)"
   ]
  },
  {
   "cell_type": "code",
   "execution_count": 5,
   "id": "ffb35ac0-9ca4-459d-8153-900a92e038c4",
   "metadata": {},
   "outputs": [],
   "source": [
    "areas = [\"hallway\", 11.25, \"kitchen\", 18.0, \"living room\", 20.0, \"bedroom\", 10.75, \"bathroom\", 9.50]"
   ]
  },
  {
   "cell_type": "code",
   "execution_count": 6,
   "id": "295ccc53-74ec-40d3-be72-ca91ac823d70",
   "metadata": {},
   "outputs": [
    {
     "name": "stdout",
     "output_type": "stream",
     "text": [
      "11.25\n"
     ]
    }
   ],
   "source": [
    "print(areas[1])"
   ]
  },
  {
   "cell_type": "code",
   "execution_count": 7,
   "id": "eb9b41e9-1de5-40a8-8ea2-d1f087690a7d",
   "metadata": {},
   "outputs": [
    {
     "name": "stdout",
     "output_type": "stream",
     "text": [
      "hallway\n"
     ]
    }
   ],
   "source": [
    "print(areas[0])"
   ]
  },
  {
   "cell_type": "code",
   "execution_count": 8,
   "id": "70148f9f-ff31-476f-9e55-de0e25b8d053",
   "metadata": {},
   "outputs": [
    {
     "name": "stdout",
     "output_type": "stream",
     "text": [
      "9.5\n"
     ]
    }
   ],
   "source": [
    "print(areas[-1])"
   ]
  },
  {
   "cell_type": "code",
   "execution_count": 9,
   "id": "33fa0936-b33b-4069-8b05-973f3ad19b48",
   "metadata": {},
   "outputs": [
    {
     "name": "stdout",
     "output_type": "stream",
     "text": [
      "['hallway', 11.25, 'kitchen', 18.0, 'living room', 20.0]\n"
     ]
    }
   ],
   "source": [
    "print(areas[:6])"
   ]
  },
  {
   "cell_type": "code",
   "execution_count": 10,
   "id": "d8af2aca-90aa-4928-bbf0-d5e9a1cc5cae",
   "metadata": {},
   "outputs": [
    {
     "name": "stdout",
     "output_type": "stream",
     "text": [
      "['bedroom', 10.75, 'bathroom', 9.5]\n"
     ]
    }
   ],
   "source": [
    "print(areas[6:])"
   ]
  },
  {
   "cell_type": "code",
   "execution_count": 11,
   "id": "0139b559-46df-4623-9ef4-09113ebef754",
   "metadata": {},
   "outputs": [
    {
     "name": "stdout",
     "output_type": "stream",
     "text": [
      "['hallway', 11.25, 'kitchen', 18.0, 'living room', 20.0] ['bedroom', 10.75, 'bathroom', 9.5]\n"
     ]
    }
   ],
   "source": [
    "# Create the areas list\n",
    "areas = [\"hallway\", 11.25, \"kitchen\", 18.0, \"living room\", 20.0, \"bedroom\", 10.75, \"bathroom\", 9.50]\n",
    "\n",
    "# Use slicing to create downstairs\n",
    "downstairs = areas[:6]\n",
    "\n",
    "# Use slicing to create upstairs\n",
    "upstairs = areas[6:]\n",
    "\n",
    "# Print out downstairs and upstairs\n",
    "\n",
    "print(downstairs,upstairs)"
   ]
  },
  {
   "cell_type": "code",
   "execution_count": 12,
   "id": "676a4bdd-0421-4884-be89-b1afe9170b81",
   "metadata": {},
   "outputs": [
    {
     "name": "stdout",
     "output_type": "stream",
     "text": [
      "['hallway', 11.25, 'kitchen', 18.0, 'chill zone', 20.0, 'bedroom', 10.75, 'bathroom', 10.5]\n"
     ]
    }
   ],
   "source": [
    "areas = [\"hallway\", 11.25, \"kitchen\", 18.0, \"living room\", 20.0, \"bedroom\", 10.75, \"bathroom\", 9.50]\n",
    "\n",
    "areas[-1] = 10.50\n",
    "\n",
    "areas[4] = \"chill zone\"\n",
    "\n",
    "print(areas)"
   ]
  },
  {
   "cell_type": "code",
   "execution_count": 13,
   "id": "cdfb1ce5-0e4c-4e7c-b795-e32b0cc38929",
   "metadata": {},
   "outputs": [
    {
     "name": "stdout",
     "output_type": "stream",
     "text": [
      "['hallway', 11.25, 'kitchen', 18.0, 'chill zone', 20.0, 'bedroom', 10.75, 'bathroom', 10.5, 'poolhouse', 24.5]\n"
     ]
    }
   ],
   "source": [
    "areas_1 = areas + [\"poolhouse\", 24.5]\n",
    "\n",
    "print(areas_1)"
   ]
  },
  {
   "cell_type": "code",
   "execution_count": 14,
   "id": "425db9d4-ae9f-42ca-867a-e5faeacac142",
   "metadata": {},
   "outputs": [
    {
     "name": "stdout",
     "output_type": "stream",
     "text": [
      "['hallway', 11.25, 'kitchen', 18.0, 'chill zone', 20.0, 'bedroom', 10.75, 'bathroom', 10.5, 'poolhouse', 24.5, 'garage', 15.45]\n"
     ]
    }
   ],
   "source": [
    "areas_2 = areas_1 + [\"garage\",15.45]  \n",
    "\n",
    "print(areas_2)"
   ]
  },
  {
   "cell_type": "code",
   "execution_count": 16,
   "id": "c7236cc4-f835-4941-a64f-f7e2a07a6d35",
   "metadata": {},
   "outputs": [
    {
     "name": "stdout",
     "output_type": "stream",
     "text": [
      "[11.25, 18.0, 20.0, 10.75, 9.5]\n",
      "[5.0, 18.0, 20.0, 10.75, 9.5]\n"
     ]
    }
   ],
   "source": [
    "# Create list areas\n",
    "areas = [11.25, 18.0, 20.0, 10.75, 9.50]\n",
    "\n",
    "# Create areas_copy\n",
    "areas_copy = list(areas)\n",
    "\n",
    "# Change areas_copy\n",
    "areas_copy[0] = 5.0\n",
    "\n",
    "# Print areas\n",
    "print(areas)\n",
    "print(areas_copy)"
   ]
  },
  {
   "cell_type": "code",
   "execution_count": 17,
   "id": "6dae49cc-4c28-4e20-88b6-9ea19799fa74",
   "metadata": {},
   "outputs": [
    {
     "name": "stdout",
     "output_type": "stream",
     "text": [
      "[20.0, 18.0, 11.25, 10.75, 9.5]\n"
     ]
    }
   ],
   "source": [
    "# Create lists first and second\n",
    "first = [11.25, 18.0, 20.0]\n",
    "second = [10.75, 9.50]\n",
    "\n",
    "# Paste together first and second: full\n",
    "full = first + second\n",
    "# Sort full in descending order: full_sorted\n",
    "full_sorted = sorted(full,reverse = True)\n",
    "\n",
    "# Print out full_sorted\n",
    "print(full_sorted)"
   ]
  },
  {
   "cell_type": "code",
   "execution_count": 18,
   "id": "718f1387-507b-4c19-9239-5ae2faf2b785",
   "metadata": {},
   "outputs": [
    {
     "name": "stdout",
     "output_type": "stream",
     "text": [
      "POOLHOUSE\n"
     ]
    }
   ],
   "source": [
    "place = \"poolhouse\"\n",
    "\n",
    "place_up = place.upper()\n",
    "\n",
    "print(place_up)"
   ]
  },
  {
   "cell_type": "code",
   "execution_count": 21,
   "id": "6cccbb23-c573-4fcf-a32c-b41aa7150379",
   "metadata": {},
   "outputs": [
    {
     "name": "stdout",
     "output_type": "stream",
     "text": [
      "Poolhouse\n"
     ]
    }
   ],
   "source": [
    "p = place.capitalize()\n",
    "print(p)"
   ]
  },
  {
   "cell_type": "code",
   "execution_count": 22,
   "id": "24559250-4569-4d0f-a72d-3282ae309640",
   "metadata": {},
   "outputs": [
    {
     "name": "stdout",
     "output_type": "stream",
     "text": [
      "3\n"
     ]
    }
   ],
   "source": [
    "p = place.count('o')\n",
    "print(p)"
   ]
  },
  {
   "cell_type": "code",
   "execution_count": 24,
   "id": "0d5f55cc-febe-499b-9a9c-21b51111d236",
   "metadata": {},
   "outputs": [
    {
     "name": "stdout",
     "output_type": "stream",
     "text": [
      "2\n",
      "1\n"
     ]
    }
   ],
   "source": [
    "areas = [11.25, 18.0, 20.0, 10.75, 9.50]\n",
    "\n",
    "print(areas.index(20.0))\n",
    "\n",
    "print(areas.count(9.50))"
   ]
  },
  {
   "cell_type": "code",
   "execution_count": 25,
   "id": "c1cc84df-47da-4913-b642-a9bc10235887",
   "metadata": {},
   "outputs": [
    {
     "name": "stdout",
     "output_type": "stream",
     "text": [
      "[11.25, 18.0, 20.0, 10.75, 9.5, 24.5, 15.45]\n"
     ]
    }
   ],
   "source": [
    "areas.append(24.5)\n",
    "areas.append(15.45)\n",
    "print(areas)"
   ]
  },
  {
   "cell_type": "code",
   "execution_count": 28,
   "id": "281277a2-057c-42b5-99cc-2685e92762a4",
   "metadata": {},
   "outputs": [
    {
     "name": "stdout",
     "output_type": "stream",
     "text": [
      "None\n",
      "[15.45, 24.5, 9.5, 10.75, 20.0, 18.0, 11.25]\n"
     ]
    }
   ],
   "source": [
    "print(areas.reverse())\n",
    "print(areas)"
   ]
  },
  {
   "cell_type": "code",
   "execution_count": 29,
   "id": "f6402676-9272-4144-b5a9-0ce4afd66add",
   "metadata": {},
   "outputs": [
    {
     "name": "stdout",
     "output_type": "stream",
     "text": [
      "Circumference: 2.701769682087222\n",
      "Area: 0.5808804816487527\n"
     ]
    }
   ],
   "source": [
    "# Definition of radius\n",
    "r = 0.43\n",
    "\n",
    "# Import the math package\n",
    "import math\n",
    "\n",
    "# Calculate C\n",
    "C = 2*r*math.pi\n",
    "\n",
    "# Calculate A\n",
    "A = math.pi * r ** 2\n",
    "\n",
    "# Build printout\n",
    "print(\"Circumference: \" + str(C))\n",
    "print(\"Area: \" + str(A))"
   ]
  },
  {
   "cell_type": "code",
   "execution_count": 30,
   "id": "1671dad4-3d90-4027-bb8d-8652051b5547",
   "metadata": {},
   "outputs": [
    {
     "name": "stdout",
     "output_type": "stream",
     "text": [
      "40317.10572106901\n"
     ]
    }
   ],
   "source": [
    "# Definition of radius\n",
    "r = 192500\n",
    "\n",
    "# Import radians function of math package\n",
    "from math import radians \n",
    "\n",
    "# Travel distance of Moon over 12 degrees. Store in dist.\n",
    "dist = r * radians(12) \n",
    "\n",
    "# Print out dist\n",
    "\n",
    "print(dist)\n"
   ]
  },
  {
   "cell_type": "code",
   "execution_count": 32,
   "id": "7c580016-6546-4712-96fd-e073a46042de",
   "metadata": {},
   "outputs": [
    {
     "name": "stdout",
     "output_type": "stream",
     "text": [
      "<class 'numpy.ndarray'>\n",
      "[180 215 210 210 188 176 209 200]\n"
     ]
    }
   ],
   "source": [
    "baseball = [180, 215, 210, 210, 188, 176, 209, 200]\n",
    "\n",
    "import numpy as np\n",
    "\n",
    "np_baseball = np.array(baseball)\n",
    "\n",
    "print(type(np_baseball))\n",
    "print(np_baseball)"
   ]
  },
  {
   "cell_type": "code",
   "execution_count": 33,
   "id": "17b923f4-f3a2-42be-afe5-b6e1d41f88a0",
   "metadata": {},
   "outputs": [
    {
     "name": "stdout",
     "output_type": "stream",
     "text": [
      "<class 'numpy.ndarray'>\n",
      "(4, 2)\n"
     ]
    }
   ],
   "source": [
    "baseball = [[180, 78.4],\n",
    "            [215, 102.7],\n",
    "            [210, 98.5],\n",
    "            [188, 75.2]]\n",
    "\n",
    "import numpy as np\n",
    "\n",
    "np_baseball = np.array([[180, 78.4],\n",
    "            [215, 102.7],\n",
    "            [210, 98.5],\n",
    "            [188, 75.2]])\n",
    "\n",
    "print(type(np_baseball))\n",
    "\n",
    "print(np_baseball.shape)"
   ]
  },
  {
   "cell_type": "code",
   "execution_count": 34,
   "id": "8fa76ec3-dcf7-4051-86c5-032fbc9fec61",
   "metadata": {},
   "outputs": [
    {
     "name": "stdout",
     "output_type": "stream",
     "text": [
      "(4, 2)\n"
     ]
    }
   ],
   "source": [
    "import numpy as np\n",
    "\n",
    "np_baseball = np.array(baseball)\n",
    "\n",
    "print(np_baseball.shape)"
   ]
  },
  {
   "cell_type": "code",
   "execution_count": null,
   "id": "c734b15f-ca32-4eda-80e9-3daef34411b1",
   "metadata": {},
   "outputs": [],
   "source": []
  }
 ],
 "metadata": {
  "kernelspec": {
   "display_name": "Python 3 (ipykernel)",
   "language": "python",
   "name": "python3"
  },
  "language_info": {
   "codemirror_mode": {
    "name": "ipython",
    "version": 3
   },
   "file_extension": ".py",
   "mimetype": "text/x-python",
   "name": "python",
   "nbconvert_exporter": "python",
   "pygments_lexer": "ipython3",
   "version": "3.11.7"
  }
 },
 "nbformat": 4,
 "nbformat_minor": 5
}
